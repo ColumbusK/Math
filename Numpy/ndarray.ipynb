{
 "cells": [
  {
   "cell_type": "code",
   "execution_count": 1,
   "metadata": {},
   "outputs": [],
   "source": [
    "import numpy as np\n"
   ]
  },
  {
   "cell_type": "code",
   "execution_count": 41,
   "metadata": {},
   "outputs": [
    {
     "name": "stdout",
     "output_type": "stream",
     "text": [
      "[1 2 3] (3,)\n",
      "[[1 2 3]\n",
      " [4 1 3]] (2, 3)\n",
      "[[[1 2 3]\n",
      "  [1 2 3]]] (1, 2, 3)\n",
      "order='C'\n",
      " [[1 2 3]\n",
      " [4 1 3]] (2, 3)\n",
      "[1 2 3]\n",
      "order='F'\n",
      " [[1 2 3]\n",
      " [4 1 3]] (2, 3)\n",
      "[1 2 3]\n",
      "[[0. 0.]] (1, 2)\n",
      "[[1.+0.j 1.+0.j]\n",
      " [1.+0.j 1.+0.j]] (2, 2)\n",
      "[1.+0.j 3.+0.j 5.+0.j 7.+0.j 9.+0.j] (5,)\n"
     ]
    }
   ],
   "source": [
    "# 1) 创建numpy数组\n",
    "\n",
    "# 1.1 array 方法转换类型\n",
    "\n",
    "# 1.1.1 一维数组\n",
    "na = np.array([1, 2, 3])\n",
    "print(na, na.shape)\n",
    "# 1.1.2 二维数组\n",
    "na = np.array([[1, 2, 3], [4, 1, 3]], order='F')\n",
    "print(na, na.shape)\n",
    "# 1.1.3 三维数组\n",
    "na = np.array([[[1, 2, 3], [1, 2, 3]]])\n",
    "# ! order参数决定了数组在内存中的排放方式，也因此导致读取时的不同方式，因此会影响resize等原地改变数组方法的结果\n",
    "print(na, na.shape)\n",
    "# 1.1.4 C：row方向\n",
    "na = np.array([[1, 2, 3], [4, 1, 3]], order='C')\n",
    "print(\"order='C'\\n\",  na, na.shape)\n",
    "print(na[0])\n",
    "# 1.1.4 F：column方向\n",
    "na = np.array([[1, 2, 3], [4, 1, 3]], order='F')\n",
    "print(\"order='F'\\n\",  na, na.shape)\n",
    "print(na[0])\n",
    "\n",
    "# 1.2 批量数组\n",
    "# 1.2.1 零数组\n",
    "na = np.zeros([1,2], np.float32)\n",
    "print(na, na.shape)\n",
    "# 1.2.2 一数组\n",
    "na = np.ones([2, 2], np.complex64)\n",
    "print(na, na.shape)\n",
    "# 1.2.3 range顺序数组\n",
    "na = np.arange(1, 10, 2, dtype=np.complex128)\n",
    "print(na, na.shape)\n",
    "# 1.2.4 填充数组\n",
    "\n"
   ]
  },
  {
   "cell_type": "code",
   "execution_count": 47,
   "metadata": {},
   "outputs": [
    {
     "name": "stdout",
     "output_type": "stream",
     "text": [
      "[[1. 1. 1. 1.]\n",
      " [1. 1. 1. 1.]]\n",
      "shape: (2, 4)\n",
      "size 8\n",
      "[1. 1. 1. 1. 1. 1. 1. 1.]\n",
      "shape: (8,)\n",
      "size 8\n",
      "[[1. 1. 1. 1.]\n",
      " [1. 1. 1. 1.]]\n",
      "shape: (2, 4)\n",
      "size 8\n",
      "[[1 2 3]\n",
      " [1 2 3]]\n",
      "[[1]\n",
      " [2]]\n",
      "[[1 2 3]\n",
      " [1 2 3]]\n",
      "[[1]\n",
      " [1]]\n"
     ]
    }
   ],
   "source": [
    "# 2) ndarray数组形状\n",
    "\n",
    "# 2.1 shape 查看形态\n",
    "na = np.ones([2,4])\n",
    "print(na)\n",
    "print(\"shape:\", na.shape)\n",
    "print(\"size\", na.size)\n",
    "\n",
    "# 2.2 reshape 重构形态\n",
    "na = na.reshape([8])\n",
    "print(na)\n",
    "print(\"shape:\", na.shape)\n",
    "print(\"size\", na.size)\n",
    "\n",
    "# 2.3 resize 重构大小\n",
    "na.resize([2,4])\n",
    "print(na)\n",
    "print(\"shape:\", na.shape)\n",
    "print(\"size\", na.size)\n",
    "\n",
    "# 2.3.1 C方向\n",
    "na = np.array([[1, 2, 3], [1, 2, 3]], order='C')\n",
    "print(na)\n",
    "na.resize([2,1])\n",
    "print(na)\n",
    "# 2.3.2 F方向\n",
    "na = np.array([[1, 2, 3], [1, 2, 3]], order='F')\n",
    "print(na)\n",
    "na.resize([2, 1])\n",
    "print(na)\n"
   ]
  },
  {
   "cell_type": "code",
   "execution_count": null,
   "metadata": {},
   "outputs": [],
   "source": []
  }
 ],
 "metadata": {
  "interpreter": {
   "hash": "777d77ff77be5bf89c9ed17f71d9688aa970038ac2603acbc660a646bd666847"
  },
  "kernelspec": {
   "display_name": "Python 3.8.8 ('base')",
   "language": "python",
   "name": "python3"
  },
  "language_info": {
   "codemirror_mode": {
    "name": "ipython",
    "version": 3
   },
   "file_extension": ".py",
   "mimetype": "text/x-python",
   "name": "python",
   "nbconvert_exporter": "python",
   "pygments_lexer": "ipython3",
   "version": "3.8.8"
  },
  "orig_nbformat": 4
 },
 "nbformat": 4,
 "nbformat_minor": 2
}
