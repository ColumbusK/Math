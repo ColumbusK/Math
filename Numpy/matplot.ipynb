{
 "cells": [
  {
   "cell_type": "code",
   "execution_count": 1,
   "metadata": {},
   "outputs": [],
   "source": [
    "# 衔接，使用Numpy准备数据\n",
    "import numpy as np\n",
    "import matplotlib.pyplot as plt"
   ]
  },
  {
   "cell_type": "code",
   "execution_count": 2,
   "metadata": {},
   "outputs": [
    {
     "name": "stdout",
     "output_type": "stream",
     "text": [
      "[-10.          -9.6122449   -9.2244898   -8.83673469  -8.44897959\n",
      "  -8.06122449  -7.67346939  -7.28571429  -6.89795918  -6.51020408\n",
      "  -6.12244898  -5.73469388  -5.34693878  -4.95918367  -4.57142857\n",
      "  -4.18367347  -3.79591837  -3.40816327  -3.02040816  -2.63265306\n",
      "  -2.24489796  -1.85714286  -1.46938776  -1.08163265  -0.69387755\n",
      "  -0.30612245   0.08163265   0.46938776   0.85714286   1.24489796\n",
      "   1.63265306   2.02040816   2.40816327   2.79591837   3.18367347\n",
      "   3.57142857   3.95918367   4.34693878   4.73469388   5.12244898\n",
      "   5.51020408   5.89795918   6.28571429   6.67346939   7.06122449\n",
      "   7.44897959   7.83673469   8.2244898    8.6122449    9.        ]\n",
      "50\n"
     ]
    },
    {
     "data": {
      "image/png": "[encoded data removed]",
      "text/plain": [
       "<Figure size 432x288 with 1 Axes>"
      ]
     },
     "metadata": {
      "needs_background": "light"
     },
     "output_type": "display_data"
    }
   ],
   "source": [
    "# 1. prepare data\n",
    "x = np.linspace(-10, 9)\n",
    "print(x)\n",
    "print(len(x))\n",
    "y = x * 2\n",
    "\n",
    "# 2. figure 创建图表\n",
    "fig = plt.figure()\n",
    "ax = fig.add_subplot()\n",
    "\n",
    "# 3. plot 绘图\n",
    "# 4. 装饰定制\n",
    "ax.plot(x, y, color='red', linewidth=1, alpha=.7)\n",
    "\n",
    "# 5. sava 输入存储\n",
    "\n",
    "# 6. show 输出展示\n",
    "plt.show()\n"
   ]
  }
 ],
 "metadata": {
  "interpreter": {
   "hash": "2469a70536e4d2335a2ea8907942d0699c37342a371ac185bdb5b0aa6f073890"
  },
  "kernelspec": {
   "display_name": "Python 3.8.10 64-bit",
   "language": "python",
   "name": "python3"
  },
  "language_info": {
   "codemirror_mode": {
    "name": "ipython",
    "version": 3
   },
   "file_extension": ".py",
   "mimetype": "text/x-python",
   "name": "python",
   "nbconvert_exporter": "python",
   "pygments_lexer": "ipython3",
   "version": "3.8.10"
  },
  "orig_nbformat": 4
 },
 "nbformat": 4,
 "nbformat_minor": 2
}
