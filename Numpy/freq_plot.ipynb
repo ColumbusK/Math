{
 "cells": [
  {
   "cell_type": "code",
   "execution_count": 1,
   "metadata": {},
   "outputs": [],
   "source": [
    "import numpy as np\n",
    "import matplotlib.pyplot as plt"
   ]
  },
  {
   "cell_type": "code",
   "execution_count": 5,
   "metadata": {},
   "outputs": [
    {
     "name": "stdout",
     "output_type": "stream",
     "text": [
      "[4 6 5 7 9 5 7 7 7 6 8 8 9 4 4 8 9 5 3 5 8 7 1 4 3 1 7 8 4 1]\n"
     ]
    },
    {
     "data": {
      "text/plain": [
       "(array([3., 0., 2., 5., 0., 4., 2., 6., 5., 3.]),\n",
       " array([1. , 1.8, 2.6, 3.4, 4.2, 5. , 5.8, 6.6, 7.4, 8.2, 9. ]),\n",
       " <BarContainer object of 10 artists>)"
      ]
     },
     "execution_count": 5,
     "metadata": {},
     "output_type": "execute_result"
    },
    {
     "data": {
      "image/png": "[encoded data removed]",
      "text/plain": [
       "<Figure size 576x396 with 1 Axes>"
      ]
     },
     "metadata": {},
     "output_type": "display_data"
    }
   ],
   "source": [
    "arr = np.random.randint(1, 10, 30)\n",
    "print(arr)\n",
    "plt.style.use('seaborn')\n",
    "plt.hist(arr, bins=10, linewidth=1)\n"
   ]
  }
 ],
 "metadata": {
  "interpreter": {
   "hash": "777d77ff77be5bf89c9ed17f71d9688aa970038ac2603acbc660a646bd666847"
  },
  "kernelspec": {
   "display_name": "Python 3.8.8 ('base')",
   "language": "python",
   "name": "python3"
  },
  "language_info": {
   "codemirror_mode": {
    "name": "ipython",
    "version": 3
   },
   "file_extension": ".py",
   "mimetype": "text/x-python",
   "name": "python",
   "nbconvert_exporter": "python",
   "pygments_lexer": "ipython3",
   "version": "3.8.8"
  },
  "orig_nbformat": 4
 },
 "nbformat": 4,
 "nbformat_minor": 2
}
