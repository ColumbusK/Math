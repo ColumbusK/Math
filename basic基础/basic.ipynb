{
 "cells": [
  {
   "cell_type": "markdown",
   "metadata": {},
   "source": [
    "# 基础数学知识\n",
    "\n",
    "掌握数学基础是在python中处理数学公式的必要条件，基础知识包括：\n",
    "1. 变量、常量\n",
    "2. 函数\n",
    "3. 幂与平方根\n",
    "4. 多项式函数\n",
    "5. 三角函数\n",
    "6. 总和与乘积\n",
    "7. 随机数\n",
    "8. LaTex\n",
    "9. 绝对值"
   ]
  },
  {
   "cell_type": "markdown",
   "metadata": {},
   "source": []
  }
 ],
 "metadata": {
  "language_info": {
   "name": "python"
  }
 },
 "nbformat": 4,
 "nbformat_minor": 2
}
