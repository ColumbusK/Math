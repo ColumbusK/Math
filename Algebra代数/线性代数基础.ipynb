{
 "cells": [
  {
   "cell_type": "markdown",
   "metadata": {},
   "source": [
    "# 线性代数基础\n",
    "线性代数是数学中处理具有多维结构的数字序列的一个分支。这些多维结构被称为标量、向量、矩阵和张量。人工智能需要处理非常多的数值，而使用线性代数可以利用简单的公式来表达对多个数值的处理。而且，可以利用numpy轻松地将公式应用于代码中。\n",
    "\n",
    "虽然真正学习线性代数需要花费大量的精力和时间，但本章内容仅限于初学人工智能所需的范围。\n",
    "\n",
    "学会灵活运用线性代数，可以高校地处理大量的数值数据。\n",
    "\n",
    "\n",
    "本章是数学教科书的第四章节，主要学习线性代数的相关基础知识，主要涉及的内容有\n",
    "- 标量、向量、矩阵、张量\n",
    "- 向量点积\n",
    "  - 向量叉积 cross product\n",
    "- 向量范数\n",
    "- 矩阵的积\n",
    "  - 哈达玛积\n",
    "- 矩阵转置\n",
    "- 行列式与逆矩阵\n",
    "- 线性变化\n",
    "- 特征值和特征向量\n",
    "- 余弦相似度\n"
   ]
  },
  {
   "cell_type": "markdown",
   "metadata": {},
   "source": [
    "## 1）标量、向量、矩阵和张量\n",
    "\n",
    "编程语言中往往有基础数据类型和组合数据类型，基础数据类型如字符、整形、浮点数，是原子个体的类型；但孤立的数据在处理时缺乏效率并且缺乏相应的表示能力；组合数据类型如数组、字符串、对象等则将基础数据类型根据规则进行了组织，增加了数据表达能力，便利了程序处理提高了效率。人工智能的训练同样需要对大量的数据进行处理，因此需要在数据层面对数据进行编码，表示，计算等，而标量、向量、矩阵和张量正是这个过程中所需的重要工具，他们在不同的数据维度上发挥作用。"
   ]
  },
  {
   "cell_type": "markdown",
   "metadata": {},
   "source": [
    "### a-标量 scaler\n",
    "\n",
    "标量（scaler）就是像1、5、1.2、-7 等正常的数字。一般用小写英语或希腊字母表示\n",
    "\n",
    "标量的示例：$a、p、\\alpha、\\gamma $\n",
    "\n",
    "python中处理的正常数值就与标量对应  \n"
   ]
  },
  {
   "cell_type": "code",
   "execution_count": 1,
   "metadata": {},
   "outputs": [
    {
     "data": {
      "text/plain": [
       "[1, 1.2, -0.25, 120000.0]"
      ]
     },
     "execution_count": 1,
     "metadata": {},
     "output_type": "execute_result"
    }
   ],
   "source": [
    "# python 中的标量\n",
    "a = 1\n",
    "b = 1.2\n",
    "c = -0.25\n",
    "d = 1.2e5\n",
    "\n",
    "[a,b,c,d]"
   ]
  },
  {
   "cell_type": "markdown",
   "metadata": {},
   "source": [
    "### b-向量 vector\n",
    "\n",
    "标量只表示数值大小，而向量通过标量的组合不仅表示大小而且表示方向，标量的个数反映了向量的维度。\n",
    "\n",
    "向量的写法是将标量排列在直线上，通常用一个小写字母加上箭头表示\n",
    "\n",
    "向量包括垂直排列数值的垂直向量，以及水平排列数值的水平向量。本书主要使用水平向量，因此单纯写作向量时所指的是水平向量\n",
    "\n",
    "在python中可以使用 Numpy 的一维数组来表示向量"
   ]
  },
  {
   "cell_type": "code",
   "execution_count": 2,
   "metadata": {},
   "outputs": [
    {
     "name": "stdout",
     "output_type": "stream",
     "text": [
      "[1 2 3]\n",
      "[-2.4   0.25 -1.3   1.8   0.61]\n"
     ]
    }
   ],
   "source": [
    "import numpy as np\n",
    "\n",
    "a = np.array([1,2,3])\n",
    "print(a)\n",
    "\n",
    "b = np.array([-2.4, 0.25, -1.3, 1.8, 0.61])\n",
    "print(b)"
   ]
  },
  {
   "cell_type": "markdown",
   "metadata": {},
   "source": [
    "### c-矩阵 matrix\n",
    "\n",
    "矩阵是将标量排列成格子状的产物，在矩阵中，标量的水平排列被称为行，标量的垂直排列被称为列。m行n列矩阵表示为 $m\\times n$ 矩阵\n",
    "\n",
    "因此，下图的矩阵就是 $3\\times3$ 矩阵。\n",
    "\n",
    "矩阵一般用大写的斜体字母表示\n",
    "\n",
    "$$\n",
    " \\begin{bmatrix}\n",
    "   1 & 2 & 3 \\\\\n",
    "   4 & 5 & 6 \\\\\n",
    "   7 & 8 & 9\n",
    "  \\end{bmatrix}\n",
    "  \\tag{2}\n",
    "$$\n",
    "\n",
    "Numpy的二维数组可以表示矩阵"
   ]
  },
  {
   "cell_type": "code",
   "execution_count": 3,
   "metadata": {},
   "outputs": [
    {
     "name": "stdout",
     "output_type": "stream",
     "text": [
      "[[1 2 3]\n",
      " [4 5 6]]\n",
      "[[ 0.21  0.14]\n",
      " [-1.3   0.81]\n",
      " [ 0.12 -2.1 ]]\n"
     ]
    }
   ],
   "source": [
    "\n",
    "a = np.array([[1,2,3],\n",
    "              [4,5,6]])\n",
    "\n",
    "print(a)\n",
    "\n",
    "b = np.array([[0.21, 0.14],\n",
    "              [-1.3, 0.81],\n",
    "              [0.12, -2.1]])\n",
    "\n",
    "print(b)"
   ]
  },
  {
   "cell_type": "markdown",
   "metadata": {},
   "source": [
    "### d-张量 tensor\n",
    "\n",
    "张量是在多个维度中排列的标量，其中包括标量、向量和矩阵。\n",
    "\n",
    "每个元素的下标数被称为张量的**阶数**。标量没有下标，因此它是0阶向量，向量有1个下标，因此为1阶张量，矩阵有2个下标，因此为2阶张量。\n",
    "\n",
    "更高维度的还有3阶张量、4阶张量\n",
    "\n",
    "> 这里对于张量的定义采取了简化的定义，在数学和物理中，张量的定义实际上要更为复杂\n",
    "\n",
    "可以使用Numpy的多维数组来表示3阶张量"
   ]
  },
  {
   "cell_type": "code",
   "execution_count": null,
   "metadata": {},
   "outputs": [],
   "source": [
    "\n",
    "a = np.array([[\n",
    "                [0,1,2,3],\n",
    "                [2,3,4,5],\n",
    "                [4,5,6,7]\n",
    "              ],\n",
    "              [\n",
    "                [1,2,3,4],\n",
    "                [3,4,5,6],\n",
    "                [5,6,7,8]\n",
    "              ]])\n",
    "\n"
   ]
  },
  {
   "cell_type": "markdown",
   "metadata": {},
   "source": [
    "# 自主拓展\n",
    "\n",
    "### 1-向量叉积\n",
    "向量积（也称为叉积）定义为\n",
    "$$\\textbf{e} = \\textbf{a} \\times \\textbf{b} = \\lvert a \\rvert\\ \\lvert b \\rvert\\ \\sin(\\theta)\\hat{n}$$\n",
    "---\n",
    "$$\n",
    "\\left( \\begin{array}{c}\n",
    "e_x \\\\\n",
    "e_y \\\\\n",
    "e_z \\end{array} \\right) =\n",
    "\\left(\n",
    "\\begin{array}{c}\n",
    "a_x \\\\\n",
    "a_y \\\\\n",
    "a_z\n",
    "\\end{array} \\right)\n",
    "\\times\n",
    "\\left(\n",
    "\\begin{array}{c}\n",
    "b_x \\\\\n",
    "b_y \\\\\n",
    "b_z\n",
    "\\end{array}\n",
    "\\right)\n",
    "=\n",
    "\\left(\n",
    "\\begin{array}{c}\n",
    "a_yb_z - a_zb_y \\\\\n",
    "a_zb_x - a_xb_z\\\\\n",
    "a_xb_y - a_yb_x\n",
    "\n",
    "\\end{array}\n",
    "\\right)$$\n",
    "从几何角度来说，叉积的长度等于 $a$ 和 $b$ 的大小乘以它们之间的角度的正弦值。它指向 $\\hat{n}$ 的方向，这是直接指向 $a$ 和 $b$ 所在平面的向量。这意味着如果两个向量指向方向相同（或完全相反），那么它们的叉积将为零。试试上面的方法吧！"
   ]
  },
  {
   "cell_type": "markdown",
   "metadata": {},
   "source": [
    "# 学习工具\n",
    "\n",
    "### 数学可视化\n",
    "https://academo.org/demos/3d-vector-plotter/"
   ]
  }
 ],
 "metadata": {
  "kernelspec": {
   "display_name": ".venv",
   "language": "python",
   "name": "python3"
  },
  "language_info": {
   "codemirror_mode": {
    "name": "ipython",
    "version": 3
   },
   "file_extension": ".py",
   "mimetype": "text/x-python",
   "name": "python",
   "nbconvert_exporter": "python",
   "pygments_lexer": "ipython3",
   "version": "3.12.1"
  }
 },
 "nbformat": 4,
 "nbformat_minor": 2
}
