{
 "cells": [
  {
   "cell_type": "markdown",
   "metadata": {},
   "source": [
    "# 线性代数基础\n",
    "\n",
    "本章是数学教科书的第四章节，主要学习线性代数的相关基础知识，主要涉及的内容有\n",
    "- 标量、向量、矩阵、张量\n",
    "- 向量点积\n",
    "- 向量范数\n",
    "- 矩阵的积\n",
    "  - 哈达玛积\n",
    "- 矩阵转置\n",
    "- 行列式与逆矩阵\n",
    "- 线性变化\n",
    "- 特征值和特征向量\n",
    "- 余弦相似度\n"
   ]
  },
  {
   "cell_type": "code",
   "execution_count": null,
   "metadata": {
    "vscode": {
     "languageId": "plaintext"
    }
   },
   "outputs": [],
   "source": []
  }
 ],
 "metadata": {
  "language_info": {
   "name": "python"
  }
 },
 "nbformat": 4,
 "nbformat_minor": 2
}
